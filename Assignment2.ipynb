{
 "cells": [
  {
   "cell_type": "markdown",
   "id": "d47278b3",
   "metadata": {},
   "source": [
    "## Assignment 2\n",
    "## Refferal ID:SIRSS2101\n",
    "## Full name: Gaurav Bhogale"
   ]
  },
  {
   "cell_type": "markdown",
   "id": "7af90848",
   "metadata": {},
   "source": [
    "## Q1. Write a lambda expression to extract the first word of a string."
   ]
  },
  {
   "cell_type": "code",
   "execution_count": 2,
   "id": "67d5e725",
   "metadata": {},
   "outputs": [
    {
     "name": "stdout",
     "output_type": "stream",
     "text": [
      "Hello\n",
      "H\n"
     ]
    }
   ],
   "source": [
    "String= input()\n",
    "func= lambda x:x[0]\n",
    "print(func(String))"
   ]
  },
  {
   "cell_type": "markdown",
   "id": "b552b8fd",
   "metadata": {},
   "source": [
    "## Q2. Write a function to extract first word of a string (with many words separated by by space)."
   ]
  },
  {
   "cell_type": "code",
   "execution_count": 3,
   "id": "2833ed02",
   "metadata": {},
   "outputs": [
    {
     "name": "stdout",
     "output_type": "stream",
     "text": [
      "Hello World\n",
      "Hello\n"
     ]
    }
   ],
   "source": [
    "string = input().split()\n",
    "\n",
    "func = lambda x:x[0]\n",
    "print(func(string))"
   ]
  },
  {
   "cell_type": "markdown",
   "id": "1041715d",
   "metadata": {},
   "source": [
    "## Q3. Extract the first word from every string from a list of strings by using map function."
   ]
  },
  {
   "cell_type": "code",
   "execution_count": 4,
   "id": "c7f30317",
   "metadata": {},
   "outputs": [
    {
     "name": "stdout",
     "output_type": "stream",
     "text": [
      "This is my classroom.\n"
     ]
    },
    {
     "data": {
      "text/plain": [
       "['T', 'i', 'm', 'c']"
      ]
     },
     "execution_count": 4,
     "metadata": {},
     "output_type": "execute_result"
    }
   ],
   "source": [
    "l= input().split()\n",
    "func= lambda x:x[0]\n",
    "list(next(zip(*map(func,l))))"
   ]
  },
  {
   "cell_type": "markdown",
   "id": "57f12a2c",
   "metadata": {},
   "source": [
    "## Q4. Write a function to return a list of prime factors of a given number."
   ]
  },
  {
   "cell_type": "code",
   "execution_count": 5,
   "id": "0e077c87",
   "metadata": {},
   "outputs": [
    {
     "name": "stdout",
     "output_type": "stream",
     "text": [
      "56\n",
      "[2, 7]\n"
     ]
    }
   ],
   "source": [
    "n= int(input())\n",
    "out= []\n",
    "for i in range(2,n+1):\n",
    "    if n%i== 0:\n",
    "        count = 1\n",
    "        \n",
    "        for j in range(2,(i//2+1)):\n",
    "            if(i % j==0):\n",
    "                count = 0\n",
    "                break\n",
    "                \n",
    "        if count == 1:\n",
    "            out.append(i)\n",
    "            \n",
    "print(out)"
   ]
  },
  {
   "cell_type": "markdown",
   "id": "ac09c222",
   "metadata": {},
   "source": [
    "## Q5. Write a function that finds 2nd largest among 4 numbers(Repetitions are allowed, without sorting)."
   ]
  },
  {
   "cell_type": "code",
   "execution_count": 1,
   "id": "e5ec558a",
   "metadata": {},
   "outputs": [
    {
     "name": "stdout",
     "output_type": "stream",
     "text": [
      "12 50 45 33\n",
      "45\n"
     ]
    }
   ],
   "source": [
    "a= list(map(int,input().strip().split()))[:4]\n",
    "new_list=set(a)\n",
    "new_list.remove(max(new_list))\n",
    "print(max(new_list))"
   ]
  }
 ],
 "metadata": {
  "kernelspec": {
   "display_name": "Python 3",
   "language": "python",
   "name": "python3"
  },
  "language_info": {
   "codemirror_mode": {
    "name": "ipython",
    "version": 3
   },
   "file_extension": ".py",
   "mimetype": "text/x-python",
   "name": "python",
   "nbconvert_exporter": "python",
   "pygments_lexer": "ipython3",
   "version": "3.8.8"
  }
 },
 "nbformat": 4,
 "nbformat_minor": 5
}
